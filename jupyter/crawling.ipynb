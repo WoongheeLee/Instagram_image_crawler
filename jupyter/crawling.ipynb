{
 "cells": [
  {
   "cell_type": "code",
   "execution_count": 2,
   "metadata": {},
   "outputs": [
    {
     "data": {
      "text/plain": [
       "'3.141.0'"
      ]
     },
     "execution_count": 2,
     "metadata": {},
     "output_type": "execute_result"
    }
   ],
   "source": [
    "import selenium\n",
    "selenium.__version__"
   ]
  },
  {
   "cell_type": "code",
   "execution_count": null,
   "metadata": {},
   "outputs": [],
   "source": [
    "ID = ''\n",
    "PASS = ''"
   ]
  },
  {
   "cell_type": "markdown",
   "metadata": {},
   "source": [
    "# 목적\n",
    "* 인스타그램의 셀럽 사진을 크롤링\n",
    "* 입력\n",
    "  * 셀럽 계정\n",
    "* 출력\n",
    "  * 셀럽 사진"
   ]
  },
  {
   "cell_type": "code",
   "execution_count": null,
   "metadata": {},
   "outputs": [],
   "source": [
    "# 필수 모듈 불러오기\n",
    "import time\n",
    "from selenium import webdriver\n",
    "from selenium.webdriver.common.by import By\n",
    "from selenium.webdriver.support.ui import WebDriverWait\n",
    "from selenium.webdriver.support import expected_conditions as EC"
   ]
  },
  {
   "cell_type": "markdown",
   "metadata": {},
   "source": [
    "## CONSTANT\n",
    "* 인스타 로그인용 XPATH"
   ]
  },
  {
   "cell_type": "code",
   "execution_count": null,
   "metadata": {},
   "outputs": [],
   "source": [
    "xpath_user_account = '//*[@id=\"react-root\"]/section/main/article/div[2]/div[1]/div/form/div[2]/div/label/input'\n",
    "xpath_user_passwd = '//*[@id=\"react-root\"]/section/main/article/div[2]/div[1]/div/form/div[3]/div/label/input'\n",
    "btn_login = '//*[@id=\"react-root\"]/section/main/article/div[2]/div[1]/div/form/div[4]/button'"
   ]
  },
  {
   "cell_type": "markdown",
   "metadata": {},
   "source": [
    "## 크롬 브라우저 띄우고 인스타 접속"
   ]
  },
  {
   "cell_type": "code",
   "execution_count": null,
   "metadata": {},
   "outputs": [],
   "source": [
    "def wait(xpath):\n",
    "    try:\n",
    "        WebDriverWait(driver, 3).until(\n",
    "            EC.presence_of_all_elements_located((By.XPATH, xpath))\n",
    "        )\n",
    "    finally:\n",
    "        pass"
   ]
  },
  {
   "cell_type": "code",
   "execution_count": null,
   "metadata": {},
   "outputs": [],
   "source": [
    "# 크롬 띄움\n",
    "driver_path = './webdriver/chromedriver.exe'\n",
    "driver = webdriver.Chrome(driver_path)"
   ]
  },
  {
   "cell_type": "code",
   "execution_count": null,
   "metadata": {},
   "outputs": [],
   "source": [
    "# 인스타그램 메인 주소\n",
    "insta_address = 'https://www.instagram.com/'\n",
    "\n",
    "# 인스타그램 웹사이트에 접속\n",
    "driver.get(insta_address)\n",
    "\n",
    "wait(xpath_user_account)"
   ]
  },
  {
   "cell_type": "markdown",
   "metadata": {},
   "source": [
    "## 로그인"
   ]
  },
  {
   "cell_type": "code",
   "execution_count": null,
   "metadata": {},
   "outputs": [],
   "source": [
    "driver.find_element_by_xpath(xpath_user_account).send_keys(ID)\n",
    "driver.find_element_by_xpath(xpath_user_passwd).send_keys(PASS)\n",
    "driver.find_element_by_xpath(btn_login).click()\n",
    "wait('//*[@id=\"react-root\"]/section/nav/div[2]/div/div/div[2]/input')"
   ]
  },
  {
   "cell_type": "markdown",
   "metadata": {},
   "source": [
    "## 셀럽 주소 리스트"
   ]
  },
  {
   "cell_type": "code",
   "execution_count": null,
   "metadata": {},
   "outputs": [],
   "source": [
    "celeb_list = ['kyliejenner']"
   ]
  },
  {
   "cell_type": "code",
   "execution_count": null,
   "metadata": {},
   "outputs": [],
   "source": [
    "# 셀럽 인스타로 이동\n",
    "driver.get(insta_address + celeb_list[0])\n",
    "wait('//*[@id=\"react-root\"]/section/main/div/header/section/div[1]/h2')"
   ]
  },
  {
   "cell_type": "code",
   "execution_count": null,
   "metadata": {},
   "outputs": [],
   "source": [
    "# 이 값은 크롬 창 크기에 의존적임\n",
    "scrollto = 400\n",
    "driver.execute_script(f'window.scrollTo(0, {scrollto});')"
   ]
  },
  {
   "cell_type": "code",
   "execution_count": null,
   "metadata": {},
   "outputs": [],
   "source": [
    "def screenshot(i, j):\n",
    "    '''\n",
    "    args: \n",
    "        셀럽 이름, 인스타사진 인덱스 번호\n",
    "        i 는 1부터 시작\n",
    "        j 는 1부터 시작 3까지\n",
    "    return: \n",
    "        사진 있으면 elem, 아니면 False 리턴\n",
    "    '''\n",
    "    try:\n",
    "        xpath = f'//*[@id=\"react-root\"]/section/main/div/div[3]/article/div/div/div[{i}]/div[{j}]/a/div[1]/div[1]/img'\n",
    "        elem = WebDriverWait(driver, 5).until(\n",
    "            EC.presence_of_all_elements_located((By.XPATH, xpath))\n",
    "        )[0]\n",
    "        \n",
    "        return elem\n",
    "    \n",
    "    except :\n",
    "        return False"
   ]
  },
  {
   "cell_type": "code",
   "execution_count": null,
   "metadata": {},
   "outputs": [],
   "source": [
    "s = time.time()\n",
    "\n",
    "row = 1\n",
    "cnt = 0"
   ]
  },
  {
   "cell_type": "code",
   "execution_count": null,
   "metadata": {},
   "outputs": [],
   "source": [
    "while True:\n",
    "    # 여러 줄의 사진이 로딩 된 이후 xpath 가 초기화 됨\n",
    "    if row == 17:\n",
    "        row = 1\n",
    "    \n",
    "    for col in range(1,4):\n",
    "        elem = screenshot(row, col)\n",
    "        if elem == False:\n",
    "            print('break: row',row,'col',col)\n",
    "            break\n",
    "        elem.screenshot(f'../data/{celeb_list[0]}_{cnt}.jpg')\n",
    "        \n",
    "        if cnt % 10 == 0 and cnt != 0:\n",
    "            print(f'{cnt}개 사진 수집 중... {time.time() - s:.2f} 초 경과')\n",
    "\n",
    "        cnt += 1\n",
    "        \n",
    "    if elem == False:\n",
    "        break\n",
    "        \n",
    "    row += 1"
   ]
  },
  {
   "cell_type": "code",
   "execution_count": null,
   "metadata": {},
   "outputs": [],
   "source": [
    "row, cnt"
   ]
  },
  {
   "cell_type": "markdown",
   "metadata": {},
   "source": [
    "## 크롬 브라우저 종료"
   ]
  },
  {
   "cell_type": "code",
   "execution_count": null,
   "metadata": {},
   "outputs": [],
   "source": [
    "driver.quit()"
   ]
  },
  {
   "cell_type": "markdown",
   "metadata": {},
   "source": [
    "## TO DO\n",
    "* 셀럽 리스트에 따라 각자의 디렉토리에 사진이 저장되도록 구현해야함\n",
    "* 사진 위치에 따라 잘려서 스샷 찍히거나 로딩 덜 된거 찍히는 경우 또는 인스타 로고가 함께 찍히는 경우 고쳐야함"
   ]
  }
 ],
 "metadata": {
  "kernelspec": {
   "display_name": "Python 3",
   "language": "python",
   "name": "python3"
  },
  "language_info": {
   "codemirror_mode": {
    "name": "ipython",
    "version": 3
   },
   "file_extension": ".py",
   "mimetype": "text/x-python",
   "name": "python",
   "nbconvert_exporter": "python",
   "pygments_lexer": "ipython3",
   "version": "3.7.7"
  }
 },
 "nbformat": 4,
 "nbformat_minor": 4
}
